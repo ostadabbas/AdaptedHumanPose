{
 "cells": [
  {
   "cell_type": "code",
   "execution_count": 1,
   "metadata": {},
   "outputs": [],
   "source": [
    "'''\n",
    "generate the gts in pixelized cropping for simple based lline.\n",
    "simple baseline aims at direct mapping from image space to camera coordinates.\n",
    "A proper training requires even distribution of human subj in image plane.\n",
    "It is not the case for many dataset, so we take the input from cropping plane.\n",
    "save still in Nx n_jt x 3 \n",
    "'''\n",
    "from opt import opts, set_env\n",
    "from os import path\n",
    "import os\n",
    "from tqdm import tqdm\n",
    "import numpy as np\n",
    "from utils.utils_pose import fliplr_joints, transform_joint_to_other_db\n",
    "import json\n",
    "import copy\n",
    "from data.dataset import generate_patch_image, trans_point2d\n",
    "\n",
    "candidate_sets = ['Human36M', 'ScanAva', 'MPII', 'MSCOCO', 'MuCo', 'MuPoTS', 'SURREAL']\n",
    "for i in range(len(candidate_sets)):\n",
    "\texec('from data.' + candidate_sets[i] + '.' + candidate_sets[i] + ' import ' + candidate_sets[i])"
   ]
  },
  {
   "cell_type": "code",
   "execution_count": 2,
   "metadata": {
    "pycharm": {
     "name": "#%%\n"
    }
   },
   "outputs": [
    {
     "name": "stderr",
     "output_type": "stream",
     "text": [
      "Loading and augmenting ScanAva data...: 100%|██████████| 82000/82000 [00:09<00:00, 8456.15it/s] \n"
     ]
    },
    {
     "name": "stdout",
     "output_type": "stream",
     "text": [
      "ScanAva train initialized\n"
     ]
    }
   ],
   "source": [
    "# make func\n",
    "# def get_jt_hm_flt(ds, opts):\n",
    "\n",
    "# read in ds,\n",
    "dsNm = 'SURREAL'\n",
    "phase = 'train'\n",
    "dct_dsF = {'ScanAva':ScanAva, 'SURREAL':SURREAL} # func\n",
    "dsF = dct_dsF[dsNm]       # ds func,, ScanAva or SURREAL\n",
    "fd_sv = '/scratch/liu.shu/datasets/gts_3d_sbl'  # where to save th ds, for simple base line\n",
    "if not path.exists(fd_sv):\n",
    "\tds_fd = os.makedirs(fd_sv)\n",
    "\n",
    "ds = dsF(phase, opts=opts) # keep a test set    all in  "
   ]
  },
  {
   "cell_type": "code",
   "execution_count": 13,
   "metadata": {
    "pycharm": {
     "name": "#%% processing, flatten func here for easy usage\n"
    }
   },
   "outputs": [
    {
     "name": "stderr",
     "output_type": "stream",
     "text": [
      "100%|██████████| 72000/72000 [02:04<00:00, 578.94it/s]\n"
     ]
    },
    {
     "name": "stdout",
     "output_type": "stream",
     "text": [
      "mu [[32.038452 33.551834 32.      ]\n",
      " [32.123062 33.46104  31.991486]\n",
      " [32.1789   44.99712  31.274212]\n",
      " [32.14009  58.500515 30.330101]\n",
      " [31.95418  33.642765 32.00851 ]\n",
      " [31.982546 45.324398 31.296698]\n",
      " [31.966042 58.718735 30.354013]\n",
      " [32.058365 24.039896 32.77383 ]\n",
      " [32.078304 14.527925 33.54777 ]\n",
      " [32.08232  11.724709 33.774406]\n",
      " [32.09057   6.117325 34.227875]\n",
      " [31.952795 16.409561 33.402596]\n",
      " [31.923128 21.881344 33.0328  ]\n",
      " [31.967    22.85951  33.06394 ]\n",
      " [32.192047 16.132776 33.369244]\n",
      " [32.28194  21.441196 32.9817  ]\n",
      " [32.31735  21.704811 33.05231 ]]\n",
      "std [[ 6.266916   5.5956764  0.       ]\n",
      " [ 7.2981734  5.6444926  2.6398063]\n",
      " [ 6.7654014  5.427472   5.6569777]\n",
      " [ 9.218626   6.2607737  6.276914 ]\n",
      " [ 6.790136   5.5959053  2.639806 ]\n",
      " [ 6.9911556  5.3832116  6.2706633]\n",
      " [ 9.446077   6.3341594  6.85597  ]\n",
      " [ 4.026187   4.053258   3.1699257]\n",
      " [ 5.1323214  2.924651   6.339853 ]\n",
      " [ 5.8037596  2.5011854  7.1892285]\n",
      " [ 7.585558   2.0597336  8.956224 ]\n",
      " [ 6.3811097  3.4297724  6.8233905]\n",
      " [ 7.6220984  4.8285303  8.779299 ]\n",
      " [ 9.270851  10.563285  11.215736 ]\n",
      " [ 6.7134604  3.5882468  6.4710813]\n",
      " [ 7.835144   5.0148516  8.297296 ]\n",
      " [ 9.553819  11.14119   10.90107  ]]\n"
     ]
    }
   ],
   "source": [
    "db = ds.data\n",
    "N = len(db)\n",
    "jts_hm =[]          # keep the 3d infor, 2d can be gooten from herer\n",
    "jts_vis = []        # keep all visibilities\n",
    "\n",
    "img_dm = np.zeros([256, 256,3]) # dummy image\n",
    "# N=2 # for test\n",
    "# we use patch , so 2d will be consistent with 3d hm, only regress depth\n",
    "for idx in tqdm(range(N)):      # the gt one  \n",
    "\tdata = copy.deepcopy(db[idx])\n",
    "\tbbox = data['bbox']  # give some default one for this in case not in there\n",
    "\tjoint_img = data['joint_img']       # pelvis centered d \n",
    "\tjoint_vis = data['joint_vis']\n",
    "\tjoint_cam = data['joint_cam']   # cam coordiante\n",
    "\tjt_img_ori = np.copy(joint_img) # keep a copy\n",
    "\n",
    "\n",
    "\tif False:   # for augmentation\n",
    "\t\tscale, rot, do_flip, color_scale, do_occlusion = get_aug_config()\n",
    "\telse:\n",
    "\t\tscale, rot, do_flip, color_scale, do_occlusion = 1.0, 0.0, False, [1.0, 1.0, 1.0], False\n",
    "\t# 3. crop patch from img and perform data augmentation (flip, rot, color scale, synthetic occlusion)\n",
    "\timg_patch, trans = generate_patch_image(img_dm, bbox, do_flip, scale, rot, do_occlusion,\n",
    "\t                                        input_shape=opts.input_shape)\n",
    "\tfor i in range(len(joint_img)):  # 2d first for boneLen calculation\n",
    "\t\tjoint_img[i, 0:2] = trans_point2d(joint_img[i, 0:2], trans)\n",
    "\n",
    "\tjoint_img[:, 2] /= opts.bbox_3d_shape[0] / 2.   # fix box bone norm\n",
    "\n",
    "\t#\n",
    "\tfor i in range(len(joint_img)):\n",
    "\t\tjoint_img[i, 2] = (joint_img[i, 2] + 1.0) / 2.  # 0~1 normalize\n",
    "\t\tjoint_vis[i] *= (\n",
    "\t\t\t\t(joint_img[i, 0] >= 0) & \\\n",
    "\t\t\t\t(joint_img[i, 0] < opts.input_shape[1]) & \\\n",
    "\t\t\t\t(joint_img[i, 1] >= 0) & \\\n",
    "\t\t\t\t(joint_img[i, 1] < opts.input_shape[0]) & \\\n",
    "\t\t\t\t(joint_img[i, 2] >= 0) & \\\n",
    "\t\t\t\t(joint_img[i, 2] < 1)\n",
    "\t\t)  # nice filtering  all in range\n",
    "\n",
    "\t# change coordinates to output space the hmap space (usually 64 or 32 )\n",
    "\tjoint_img[:, 0] = joint_img[:, 0] / opts.input_shape[1] * opts.output_shape[1]\n",
    "\tjoint_img[:, 1] = joint_img[:, 1] / opts.input_shape[0] * opts.output_shape[0]\n",
    "\tjoint_img[:, 2] = joint_img[:, 2] * opts.depth_dim  # 0 ~ depth_dim, 64 bin\n",
    "# \tprint('before trans', joint_img)\n",
    "\tif opts.ref_joints_name is not None:\n",
    "\t\tjoint_img = transform_joint_to_other_db(joint_img, ds.joints_name, opts.ref_joints_name)\n",
    "\t\tjoint_vis = transform_joint_to_other_db(joint_vis, ds.joints_name,\n",
    "\t\t                                        opts.ref_joints_name)  # invisible to no exist one\n",
    "# \tprint('after map', joint_img)\n",
    "\tjoint_img = joint_img.astype(np.float32)  # x,y,z, hm\n",
    "\tjoint_vis = (joint_vis > 0).astype(np.float32)\n",
    "\t# v_jt_2d = joint_img[:,2].flat()\n",
    "\t# v_jt_3d= joint_img.flat()\n",
    "\n",
    "\t# to result list\n",
    "\tjts_hm.append(joint_img)\n",
    "\tjts_vis.append(joint_vis)\n",
    "\n",
    "\tif False:        # for debug\n",
    "\t\tprint('original jt img', jt_img_ori)\n",
    "# \t\tprint('bbox', bbox)\n",
    "# \t\tprint('trans', trans)\n",
    "# \t\tprint('new jt img', joint_img)\n",
    "\n",
    "jts_hm = np.array(jts_hm)   # N x n_jts x 3, hm version \n",
    "jts_vis = np.array(jts_vis)\n",
    "mu = jts_hm.mean(axis=0)    # each coordinate a mean\n",
    "std = jts_hm.std(axis=0)\n",
    "if True:\n",
    "    print('mu' ,mu)\n",
    "    print('std', std)\n",
    "\n",
    "    "
   ]
  },
  {
   "cell_type": "code",
   "execution_count": 3,
   "metadata": {
    "pycharm": {
     "name": "#%% processing, flatten func here for easy usage\n"
    }
   },
   "outputs": [
    {
     "name": "stderr",
     "output_type": "stream",
     "text": [
      "100%|██████████| 72000/72000 [02:03<00:00, 584.93it/s]\n"
     ]
    },
    {
     "name": "stdout",
     "output_type": "stream",
     "text": [
      "mu [[32.192047 16.132776 33.369244]\n",
      " [32.1789   44.99712  31.274212]\n",
      " [32.123062 33.46104  31.991486]\n",
      " [32.038452 33.551834 32.      ]\n",
      " [32.14009  58.500515 30.330101]\n",
      " [31.95418  33.642765 32.00851 ]\n",
      " [31.982546 45.324398 31.296698]\n",
      " [32.28194  21.441196 32.9817  ]\n",
      " [31.923128 21.881344 33.0328  ]\n",
      " [32.31735  21.704811 33.05231 ]\n",
      " [31.967    22.85951  33.06394 ]\n",
      " [32.08232  11.724709 33.774406]\n",
      " [32.09057   6.117325 34.227875]\n",
      " [31.952795 16.409561 33.402596]\n",
      " [32.078304 14.527925 33.54777 ]\n",
      " [32.058365 24.039896 32.77383 ]\n",
      " [31.966042 58.718735 30.354013]]\n",
      "std [[ 6.7134604  3.5882468  6.4710813]\n",
      " [ 6.7654014  5.427472   5.6569777]\n",
      " [ 7.2981734  5.6444926  2.6398063]\n",
      " [ 6.266916   5.5956764  0.       ]\n",
      " [ 9.218626   6.2607737  6.276914 ]\n",
      " [ 6.790136   5.5959053  2.639806 ]\n",
      " [ 6.9911556  5.3832116  6.2706633]\n",
      " [ 7.835144   5.0148516  8.297296 ]\n",
      " [ 7.6220984  4.8285303  8.779299 ]\n",
      " [ 9.553819  11.14119   10.90107  ]\n",
      " [ 9.270851  10.563285  11.215736 ]\n",
      " [ 5.8037596  2.5011854  7.1892285]\n",
      " [ 7.585558   2.0597336  8.956224 ]\n",
      " [ 6.3811097  3.4297724  6.8233905]\n",
      " [ 5.1323214  2.924651   6.339853 ]\n",
      " [ 4.026187   4.053258   3.1699257]\n",
      " [ 9.446077   6.3341594  6.85597  ]]\n"
     ]
    }
   ],
   "source": [
    "rst = {}\n",
    "rst['jts_hm'] = jts_hm.tolist()\n",
    "rst['jts_vis'] = jts_vis.tolist()\n",
    "rst['mu'] = mu.tolist()\n",
    "rst['std'] = std.tolist()\n",
    "pth = path.join(fd_sv, '_'.join(dsNm,phase)+'.json')\n",
    "with open(pth, 'w') as f:\n",
    "\tjson.dump(rst, f)"
   ]
  },
  {
   "cell_type": "code",
   "execution_count": null,
   "outputs": [],
   "source": [
    "# load in to check  \n",
    "with open(pth,'r') as f:\n",
    "\tdt_in = json.load(f)\n",
    "\t\n",
    "print(dt_in['mu'])\n",
    "\n",
    "\n",
    "# loop adpat to all jts in cropping  in pixel\n",
    "# flaten, column wise std and  mu.\n",
    "\n"
   ],
   "metadata": {
    "collapsed": false,
    "pycharm": {
     "name": "#%%\n"
    }
   }
  }
 ],
 "metadata": {
  "kernelspec": {
   "display_name": "Python 3",
   "language": "python",
   "name": "python3"
  },
  "language_info": {
   "codemirror_mode": {
    "name": "ipython",
    "version": 3
   },
   "file_extension": ".py",
   "mimetype": "text/x-python",
   "name": "python",
   "nbconvert_exporter": "python",
   "pygments_lexer": "ipython3",
   "version": "3.7.4"
  },
  "pycharm": {
   "stem_cell": {
    "cell_type": "raw",
    "source": [],
    "metadata": {
     "collapsed": false
    }
   }
  }
 },
 "nbformat": 4,
 "nbformat_minor": 1
}